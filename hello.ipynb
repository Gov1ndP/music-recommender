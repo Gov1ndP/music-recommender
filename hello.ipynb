{
 "cells": [
  {
   "cell_type": "code",
   "execution_count": 6,
   "id": "80aa6a84",
   "metadata": {
    "scrolled": true
   },
   "outputs": [
    {
     "name": "stdout",
     "output_type": "stream",
     "text": [
      "['Jazz' 'Dance' 'Acoustic' 'Classical' 'Acoustic' 'Classical' 'Classical'\n",
      " 'HipHop' 'Classical' 'Jazz' 'Acoustic' 'HipHop' 'Dance' 'Jazz' 'Dance']\n",
      "1.0\n"
     ]
    }
   ],
   "source": [
    "import pandas as pd\n",
    "from sklearn.tree import DecisionTreeClassifier\n",
    "from sklearn.model_selection import train_test_split\n",
    "from sklearn.metrics import accuracy_score\n",
    "\n",
    "df=pd.read_csv('music.csv')\n",
    "x=df.drop(columns=['genre'])\n",
    "y=df['genre']\n",
    "x_train,x_test,y_train,y_test=train_test_split(x,y,test_size=0.8)\n",
    "\n",
    "model=DecisionTreeClassifier(random_state=1)\n",
    "model.fit(x, y)\n",
    "predictions=model.predict(x_test)\n",
    "print(predictions)\n",
    "print(accuracy_score(y_test,predictions))"
   ]
  },
  {
   "cell_type": "code",
   "execution_count": null,
   "id": "10b92397",
   "metadata": {},
   "outputs": [],
   "source": []
  }
 ],
 "metadata": {
  "kernelspec": {
   "display_name": "Python 3 (ipykernel)",
   "language": "python",
   "name": "python3"
  },
  "language_info": {
   "codemirror_mode": {
    "name": "ipython",
    "version": 3
   },
   "file_extension": ".py",
   "mimetype": "text/x-python",
   "name": "python",
   "nbconvert_exporter": "python",
   "pygments_lexer": "ipython3",
   "version": "3.9.13"
  }
 },
 "nbformat": 4,
 "nbformat_minor": 5
}
